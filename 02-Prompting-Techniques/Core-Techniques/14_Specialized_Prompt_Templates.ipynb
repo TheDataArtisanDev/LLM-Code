{
 "cells": [
  {
   "cell_type": "code",
   "execution_count": null,
   "id": "32ec5409",
   "metadata": {},
   "outputs": [],
   "source": [
    "from langchain.prompts import PromptTemplate\n",
    "\n",
    "# === Template 1: Summarization ===\n",
    "summarize_template = PromptTemplate.from_template(\n",
    "    \"\"\"\n",
    "    Summarize the following passage in 3 bullet points:\n",
    "\n",
    "    {text}\n",
    "    \"\"\"\n",
    ")\n",
    "\n",
    "# === Template 2: Translation ===\n",
    "translation_template = PromptTemplate.from_template(\n",
    "    \"\"\"\n",
    "    Translate this sentence to {language}:\n",
    "    {sentence}\n",
    "    \"\"\"\n",
    ")\n",
    "\n",
    "# === Template 3: Code Generation ===\n",
    "code_gen_template = PromptTemplate.from_template(\n",
    "    \"\"\"\n",
    "    Write a Python function that does the following:\n",
    "    {task_description}\n",
    "    \"\"\"\n",
    ")\n",
    "\n",
    "# === Template 4: Data Extraction ===\n",
    "data_extraction_template = PromptTemplate.from_template(\n",
    "    \"\"\"\n",
    "    Extract the following fields from the text below:\n",
    "    Fields: {fields}\n",
    "\n",
    "    Text:\n",
    "    {text}\n",
    "    \"\"\"\n",
    ")\n",
    "\n",
    "# === Template 5: Classification ===\n",
    "classification_template = PromptTemplate.from_template(\n",
    "    \"\"\"\n",
    "    Classify the following text into one of the categories: {categories}\n",
    "\n",
    "    Text:\n",
    "    {text}\n",
    "    \"\"\"\n",
    ")\n",
    "\n",
    "# === Template 6: Question Answering ===\n",
    "qa_template = PromptTemplate.from_template(\n",
    "    \"\"\"\n",
    "    Based on the context below, answer the question:\n",
    "\n",
    "    Context:\n",
    "    {context}\n",
    "\n",
    "    Question:\n",
    "    {question}\n",
    "    \"\"\"\n",
    "\n",
    "\n",
    "# === Template 7: Regex Generation ===\n",
    "regex_template = PromptTemplate.from_template(\n",
    "    \"\"\"\n",
    "    Write a regular expression to match:\n",
    "    {requirement}\n",
    "    \"\"\"\n",
    ")"
   ]
  },
  {
   "cell_type": "code",
   "execution_count": 6,
   "id": "5e34ae7d",
   "metadata": {},
   "outputs": [
    {
     "name": "stdout",
     "output_type": "stream",
     "text": [
      "\n",
      "🧾 Summarization Prompt:\n",
      "\n",
      "    Summarize the following passage in 3 bullet points:\n",
      "\n",
      "    Large language models are powerful tools that can understand and generate text. They are used in chatbots, translators, and many other AI applications.\n",
      "    \n"
     ]
    }
   ],
   "source": [
    "\n",
    "# === Example Usage ===\n",
    "print(\"\\n🧾 Summarization Prompt:\")\n",
    "print(summarize_template.format(text=\"Large language models are powerful tools that can understand and generate text. They are used in chatbots, translators, and many other AI applications.\"))\n"
   ]
  },
  {
   "cell_type": "code",
   "execution_count": 7,
   "id": "b3ebf764",
   "metadata": {},
   "outputs": [
    {
     "name": "stdout",
     "output_type": "stream",
     "text": [
      "\n",
      "🌍 Translation Prompt:\n",
      "\n",
      "    Translate this sentence to French:\n",
      "    Good evening\n",
      "    \n"
     ]
    }
   ],
   "source": [
    "print(\"\\n🌍 Translation Prompt:\")\n",
    "print(translation_template.format(language=\"French\", sentence=\"Good evening\"))"
   ]
  },
  {
   "cell_type": "code",
   "execution_count": 8,
   "id": "d16bb6e7",
   "metadata": {},
   "outputs": [
    {
     "name": "stdout",
     "output_type": "stream",
     "text": [
      "\n",
      "💻 Code Generation Prompt:\n",
      "\n",
      "    Write a Python function that does the following:\n",
      "    Sort a list of numbers in ascending order.\n",
      "    \n"
     ]
    }
   ],
   "source": [
    "print(\"\\n💻 Code Generation Prompt:\")\n",
    "print(code_gen_template.format(task_description=\"Sort a list of numbers in ascending order.\"))"
   ]
  },
  {
   "cell_type": "code",
   "execution_count": 9,
   "id": "b21dab63",
   "metadata": {},
   "outputs": [
    {
     "name": "stdout",
     "output_type": "stream",
     "text": [
      "\n",
      "📊 Data Extraction Prompt:\n",
      "\n",
      "    Extract the following fields from the text below:\n",
      "    Fields: name, email\n",
      "\n",
      "    Text:\n",
      "    My name is John Doe and my email is john@example.com.\n",
      "    \n"
     ]
    }
   ],
   "source": [
    "print(\"\\n📊 Data Extraction Prompt:\")\n",
    "print(data_extraction_template.format(fields=\"name, email\", text=\"My name is John Doe and my email is john@example.com.\"))"
   ]
  },
  {
   "cell_type": "code",
   "execution_count": 10,
   "id": "84adc046",
   "metadata": {},
   "outputs": [
    {
     "name": "stdout",
     "output_type": "stream",
     "text": [
      "\n",
      "🧠 Classification Prompt:\n",
      "\n",
      "    Classify the following text into one of the categories: Sports, Technology, Politics\n",
      "\n",
      "    Text:\n",
      "    The government announced new tax reforms today.\n",
      "    \n"
     ]
    }
   ],
   "source": [
    "print(\"\\n🧠 Classification Prompt:\")\n",
    "print(classification_template.format(categories=\"Sports, Technology, Politics\", text=\"The government announced new tax reforms today.\"))"
   ]
  },
  {
   "cell_type": "code",
   "execution_count": 11,
   "id": "4170da83",
   "metadata": {},
   "outputs": [
    {
     "name": "stdout",
     "output_type": "stream",
     "text": [
      "\n",
      "❓ Question Answering Prompt:\n",
      "\n",
      "    Based on the context below, answer the question:\n",
      "\n",
      "    Context:\n",
      "    The Eiffel Tower is located in Paris and is one of the most iconic landmarks in the world.\n",
      "\n",
      "    Question:\n",
      "    Where is the Eiffel Tower located?\n",
      "    \n"
     ]
    }
   ],
   "source": [
    "print(\"\\n❓ Question Answering Prompt:\")\n",
    "print(qa_template.format(context=\"The Eiffel Tower is located in Paris and is one of the most iconic landmarks in the world.\", question=\"Where is the Eiffel Tower located?\"))\n"
   ]
  },
  {
   "cell_type": "code",
   "execution_count": 12,
   "id": "a13a9cea",
   "metadata": {},
   "outputs": [
    {
     "name": "stdout",
     "output_type": "stream",
     "text": [
      "\n",
      "🔢 Regex Generation Prompt:\n",
      "\n",
      "    Write a regular expression to match:\n",
      "    a string that starts with a capital letter and ends with a period.\n",
      "    \n"
     ]
    }
   ],
   "source": [
    "print(\"\\n🔢 Regex Generation Prompt:\")\n",
    "print(regex_template.format(requirement=\"a string that starts with a capital letter and ends with a period.\"))\n"
   ]
  },
  {
   "cell_type": "code",
   "execution_count": null,
   "id": "052fed64",
   "metadata": {},
   "outputs": [],
   "source": []
  }
 ],
 "metadata": {
  "kernelspec": {
   "display_name": "Python 3",
   "language": "python",
   "name": "python3"
  },
  "language_info": {
   "codemirror_mode": {
    "name": "ipython",
    "version": 3
   },
   "file_extension": ".py",
   "mimetype": "text/x-python",
   "name": "python",
   "nbconvert_exporter": "python",
   "pygments_lexer": "ipython3",
   "version": "3.11.0"
  }
 },
 "nbformat": 4,
 "nbformat_minor": 5
}
