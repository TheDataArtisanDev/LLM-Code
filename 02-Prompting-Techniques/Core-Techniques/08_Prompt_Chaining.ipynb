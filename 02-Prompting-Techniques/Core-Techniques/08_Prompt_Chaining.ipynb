{
 "cells": [
  {
   "cell_type": "markdown",
   "id": "af564279",
   "metadata": {},
   "source": [
    "# Prompt Chaining\n",
    "\n",
    "Prompt chaining is a technique where the output of one prompt is used as the input for a subsequent prompt. This enables solving multi-stage problems or workflows."
   ]
  },
  {
   "cell_type": "code",
   "execution_count": 1,
   "id": "b8027d01",
   "metadata": {},
   "outputs": [],
   "source": [
    "from openai import AzureOpenAI\n",
    "import os\n",
    "from dotenv import load_dotenv, find_dotenv\n",
    "\n",
    "load_dotenv(find_dotenv())\n",
    "client = AzureOpenAI(\n",
    "    api_key=os.getenv(\"AZURE_OPENAI_KEY\"),\n",
    "    api_version=os.getenv(\"AZURE_OPENAI_API_VERSION\"),\n",
    "    azure_endpoint=os.getenv(\"AZURE_OPENAI_ENDPOINT\")\n",
    ")\n",
    "AZURE_OPENAI_DEPLOYMENT_NAME = os.getenv(\"AZURE_OPENAI_DEPLOYMENT_NAME\")"
   ]
  },
  {
   "cell_type": "code",
   "execution_count": 2,
   "id": "fb9e5517",
   "metadata": {},
   "outputs": [
    {
     "name": "stdout",
     "output_type": "stream",
     "text": [
      "Summary: Artificial intelligence is revolutionizing industries by automating tasks, enhancing decision-making processes, and facilitating the development of new products.\n",
      "Quiz Question: **Quiz Question:**\n",
      "How is artificial intelligence (AI) impacting industries today? \n",
      "\n",
      "A) By eliminating all jobs in the workforce  \n",
      "B) By automating tasks, enhancing decision-making processes, and facilitating the development of new products  \n",
      "C) By only improving customer service in retail  \n",
      "D) By making all industries dependent on human intervention  \n",
      "\n",
      "**Correct Answer:** B) By automating tasks, enhancing decision-making processes, and facilitating the development of new products\n"
     ]
    }
   ],
   "source": [
    "def prompt_chain():\n",
    "    # Stage 1: Summarize a paragraph\n",
    "    paragraph = \"Artificial intelligence is transforming industries by automating tasks, improving decision making, and enabling new products.\"\n",
    "    summary_prompt = f\"Summarize: {paragraph}\"\n",
    "    summary_resp = client.chat.completions.create(\n",
    "        model=AZURE_OPENAI_DEPLOYMENT_NAME,\n",
    "        messages=[{\"role\": \"user\", \"content\": summary_prompt}]\n",
    "    )\n",
    "    summary = summary_resp.choices[0].message.content.strip()\n",
    "    print(\"Summary:\", summary)\n",
    "\n",
    "    # Stage 2: Generate a question based on the summary\n",
    "    question_prompt = f\"Write a quiz question based on: {summary}\"\n",
    "    question_resp = client.chat.completions.create(\n",
    "        model=AZURE_OPENAI_DEPLOYMENT_NAME,\n",
    "        messages=[{\"role\": \"user\", \"content\": question_prompt}]\n",
    "    )\n",
    "    print(\"Quiz Question:\", question_resp.choices[0].message.content.strip())\n",
    "\n",
    "prompt_chain()"
   ]
  },
  {
   "cell_type": "code",
   "execution_count": null,
   "id": "0a596d3b",
   "metadata": {},
   "outputs": [],
   "source": []
  }
 ],
 "metadata": {
  "kernelspec": {
   "display_name": "Python 3",
   "language": "python",
   "name": "python3"
  },
  "language_info": {
   "codemirror_mode": {
    "name": "ipython",
    "version": 3
   },
   "file_extension": ".py",
   "mimetype": "text/x-python",
   "name": "python",
   "nbconvert_exporter": "python",
   "pygments_lexer": "ipython3",
   "version": "3.11.0"
  }
 },
 "nbformat": 4,
 "nbformat_minor": 5
}
