{
 "cells": [
  {
   "cell_type": "markdown",
   "id": "7e49cfe8",
   "metadata": {},
   "source": [
    "# Contextual Prompting\n",
    "\n",
    "Contextual prompting involves adding relevant background information, context, or previous conversation history to prompts. This helps the model generate more coherent and context-aware outputs.\n",
    "\n",
    "## Example\n",
    "\n",
    "Suppose you want the model to answer a question based on a previous conversation or background info."
   ]
  },
  {
   "cell_type": "code",
   "execution_count": 1,
   "id": "ef5b85dd",
   "metadata": {},
   "outputs": [],
   "source": [
    "from openai import AzureOpenAI\n",
    "import os\n",
    "from dotenv import load_dotenv\n",
    "\n",
    "load_dotenv()\n",
    "\n",
    "client = AzureOpenAI(\n",
    "    api_key=os.getenv(\"AZURE_OPENAI_KEY\"),\n",
    "    api_version=os.getenv(\"AZURE_OPENAI_API_VERSION\"),\n",
    "    azure_endpoint=os.getenv(\"AZURE_OPENAI_ENDPOINT\")\n",
    ")\n",
    "AZURE_OPENAI_DEPLOYMENT_NAME = os.getenv(\"AZURE_OPENAI_DEPLOYMENT_NAME\")"
   ]
  },
  {
   "cell_type": "code",
   "execution_count": 2,
   "id": "5ff78acb",
   "metadata": {},
   "outputs": [
    {
     "name": "stdout",
     "output_type": "stream",
     "text": [
      "🤖 Azure LLM Response:\n",
      " Alice prefers Python.\n"
     ]
    }
   ],
   "source": [
    "def contextual_prompt(context, question):\n",
    "    messages = [\n",
    "        {\"role\": \"system\", \"content\": \"You are a helpful assistant.\"},\n",
    "        {\"role\": \"user\", \"content\": f\"Background: {context}\"},\n",
    "        {\"role\": \"user\", \"content\": question}\n",
    "    ]\n",
    "    response = client.chat.completions.create(\n",
    "        model=AZURE_OPENAI_DEPLOYMENT_NAME,\n",
    "        messages=messages\n",
    "    )\n",
    "    print(\"🤖 Azure LLM Response:\\n\", response.choices[0].message.content.strip())\n",
    "\n",
    "# Example usage\n",
    "context = \"Alice is a software engineer who loves Python and works at a tech startup.\"\n",
    "question = \"What programming language does Alice prefer?\"\n",
    "contextual_prompt(context, question)"
   ]
  },
  {
   "cell_type": "code",
   "execution_count": null,
   "id": "4a38066e",
   "metadata": {},
   "outputs": [],
   "source": []
  }
 ],
 "metadata": {
  "kernelspec": {
   "display_name": "Python 3",
   "language": "python",
   "name": "python3"
  },
  "language_info": {
   "codemirror_mode": {
    "name": "ipython",
    "version": 3
   },
   "file_extension": ".py",
   "mimetype": "text/x-python",
   "name": "python",
   "nbconvert_exporter": "python",
   "pygments_lexer": "ipython3",
   "version": "3.11.0"
  }
 },
 "nbformat": 4,
 "nbformat_minor": 5
}
