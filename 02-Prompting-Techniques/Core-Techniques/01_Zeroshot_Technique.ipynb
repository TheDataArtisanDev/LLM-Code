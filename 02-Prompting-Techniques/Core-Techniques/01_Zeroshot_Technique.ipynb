{
 "cells": [
  {
   "cell_type": "code",
   "execution_count": 4,
   "id": "d264545e",
   "metadata": {},
   "outputs": [],
   "source": [
    "from openai import AzureOpenAI\n",
    "import os\n",
    "from dotenv import load_dotenv, find_dotenv\n",
    "\n",
    "# Load environment variables\n",
    "load_dotenv(find_dotenv())\n",
    "\n",
    "# Azure client setup\n",
    "client = AzureOpenAI(\n",
    "    api_key=os.getenv(\"AZURE_OPENAI_KEY\"),\n",
    "    api_version=os.getenv(\"AZURE_OPENAI_API_VERSION\"),\n",
    "    azure_endpoint=os.getenv(\"AZURE_OPENAI_ENDPOINT\")\n",
    ")\n",
    "\n",
    "AZURE_OPENAI_DEPLOYMENT_NAME = os.getenv(\"AZURE_OPENAI_DEPLOYMENT_NAME\")"
   ]
  },
  {
   "cell_type": "markdown",
   "id": "1e271783",
   "metadata": {},
   "source": [
    "# Zero-shot Prompting\n",
    "\n",
    "Zero-shot prompting is a technique in which a large language model (LLM) is given a task or question without any prior examples or demonstrations. The model is expected to understand the task and generate an appropriate response based solely on the instructions provided in the prompt.\n",
    "\n",
    "## How Zero-shot Prompting Works\n",
    "\n",
    "- **No Examples Provided:** The prompt contains only the task description or question, with no sample inputs or outputs.\n",
    "- **Relies on Model's Pretraining:** The model leverages its extensive pretraining on diverse datasets to infer the intent and generate a relevant answer.\n",
    "- **Generalization:** Zero-shot prompting tests the model's ability to generalize to new tasks it may not have seen during training.\n",
    "\n",
    "## Advantages\n",
    "\n",
    "- **Simplicity:** Requires minimal prompt engineering—just a clear instruction.\n",
    "- **Versatility:** Useful for a wide range of tasks, including translation, summarization, question answering, and more.\n",
    "- **No Need for Labeled Data:** Can be used even when no task-specific examples are available.\n",
    "\n",
    "## Limitations\n",
    "\n",
    "- **Performance May Vary:** Without examples, the model may misinterpret ambiguous instructions or produce less accurate results compared to few-shot or fine-tuned approaches.\n",
    "- **Prompt Clarity is Crucial:** The effectiveness of zero-shot prompting depends heavily on how clearly the task is described.\n",
    "\n",
    "## Example\n",
    "\n",
    "A typical zero-shot prompt might look like:\n",
    "\n",
    "> Translate to French: 'Good morning'\n",
    "\n",
    "The model is expected to understand that it should translate the given English phrase into French, even though no translation examples are provided.\n"
   ]
  },
  {
   "cell_type": "code",
   "execution_count": 5,
   "id": "1e2fd82f",
   "metadata": {},
   "outputs": [
    {
     "name": "stdout",
     "output_type": "stream",
     "text": [
      "\n",
      "🧑 Zero-shot Prompt:\n",
      " Translate to French: 'Good morning'\n",
      "🤖 Azure LLM Response:\n",
      " 'Good morning' in French is 'Bonjour'.\n"
     ]
    }
   ],
   "source": [
    "# === Zero-shot Prompt ===\n",
    "def zero_shot():\n",
    "    prompt = \"Translate to French: 'Good morning'\"\n",
    "    print(\"\\n🧑 Zero-shot Prompt:\\n\", prompt)\n",
    "\n",
    "    response = client.chat.completions.create(\n",
    "        model=AZURE_OPENAI_DEPLOYMENT_NAME,\n",
    "        messages=[\n",
    "            {\"role\": \"system\", \"content\": \"You are a helpful assistant.\"},\n",
    "            {\"role\": \"user\", \"content\": prompt}\n",
    "        ]\n",
    "    )\n",
    "    \n",
    "    print(\"🤖 Azure LLM Response:\\n\", response.choices[0].message.content.strip())\n",
    "\n",
    "# === Run Zero-shot Example ===\n",
    "zero_shot()"
   ]
  },
  {
   "cell_type": "code",
   "execution_count": null,
   "id": "2337265e",
   "metadata": {},
   "outputs": [],
   "source": []
  }
 ],
 "metadata": {
  "kernelspec": {
   "display_name": "Python 3",
   "language": "python",
   "name": "python3"
  },
  "language_info": {
   "codemirror_mode": {
    "name": "ipython",
    "version": 3
   },
   "file_extension": ".py",
   "mimetype": "text/x-python",
   "name": "python",
   "nbconvert_exporter": "python",
   "pygments_lexer": "ipython3",
   "version": "3.11.0"
  }
 },
 "nbformat": 4,
 "nbformat_minor": 5
}
