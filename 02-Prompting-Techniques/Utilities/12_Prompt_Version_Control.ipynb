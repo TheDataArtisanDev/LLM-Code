{
 "cells": [
  {
   "cell_type": "code",
   "execution_count": 4,
   "id": "3f4aeabd",
   "metadata": {},
   "outputs": [],
   "source": [
    "# Track and manage prompt templates over time\n",
    "\n",
    "import os\n",
    "import json\n",
    "from datetime import datetime\n",
    "from pathlib import Path\n",
    "\n",
    "# === Directory for storing prompt versions ===\n",
    "PROMPT_DIR = Path(\"prompt_templates\")\n",
    "PROMPT_DIR.mkdir(exist_ok=True)\n"
   ]
  },
  {
   "cell_type": "code",
   "execution_count": null,
   "id": "fb787375",
   "metadata": {},
   "outputs": [],
   "source": [
    "# === Save a prompt with version ===\n",
    "def save_prompt(prompt_name: str, prompt_text: str):\n",
    "    timestamp = datetime.now().strftime(\"%Y%m%d_%H%M%S\")\n",
    "    versioned_name = f\"{prompt_name}__{timestamp}.txt\"\n",
    "    filepath = PROMPT_DIR / versioned_name\n",
    "    with open(filepath, \"w\", encoding=\"utf-8\") as f:\n",
    "        f.write(prompt_text)\n",
    "    print(f\"✅ Prompt saved as: {versioned_name}\")\n"
   ]
  },
  {
   "cell_type": "code",
   "execution_count": 6,
   "id": "994d0eb2",
   "metadata": {},
   "outputs": [],
   "source": [
    "# === List all versions of a prompt ===\n",
    "def list_prompt_versions(prompt_name: str):\n",
    "    versions = sorted([f for f in PROMPT_DIR.glob(f\"{prompt_name}__*.txt\")])\n",
    "    print(f\"\\n📄 Versions for '{prompt_name}':\")\n",
    "    for file in versions:\n",
    "        print(\" -\", file.name)"
   ]
  },
  {
   "cell_type": "code",
   "execution_count": 7,
   "id": "29af86cf",
   "metadata": {},
   "outputs": [],
   "source": [
    "# === Load a specific version ===\n",
    "def load_prompt_version(file_name: str) -> str:\n",
    "    filepath = PROMPT_DIR / file_name\n",
    "    if not filepath.exists():\n",
    "        raise FileNotFoundError(f\"Prompt version '{file_name}' not found.\")\n",
    "    return filepath.read_text(encoding=\"utf-8\")"
   ]
  },
  {
   "cell_type": "code",
   "execution_count": 8,
   "id": "7936006c",
   "metadata": {},
   "outputs": [
    {
     "name": "stdout",
     "output_type": "stream",
     "text": [
      "✅ Prompt saved as: translate_to_french__20250524_220922.txt\n"
     ]
    }
   ],
   "source": [
    "# === Example Usage ===\n",
    "prompt_name = \"translate_to_french\"\n",
    "prompt_text = \"Translate to French: '{{ input }}'\"\n",
    "\n",
    "# Save a new version\n",
    "save_prompt(prompt_name, prompt_text)"
   ]
  },
  {
   "cell_type": "code",
   "execution_count": 10,
   "id": "9582e80e",
   "metadata": {},
   "outputs": [
    {
     "name": "stdout",
     "output_type": "stream",
     "text": [
      "\n",
      "📄 Versions for 'translate_to_french':\n",
      " - translate_to_french__20250524_220435.txt\n",
      " - translate_to_french__20250524_220802.txt\n",
      " - translate_to_french__20250524_220922.txt\n"
     ]
    }
   ],
   "source": [
    "# List all saved versions\n",
    "list_prompt_versions(prompt_name)"
   ]
  },
  {
   "cell_type": "code",
   "execution_count": 11,
   "id": "15e06e21",
   "metadata": {},
   "outputs": [
    {
     "name": "stdout",
     "output_type": "stream",
     "text": [
      "\n",
      "📜 Loaded Prompt:\n",
      " Translate to French: '{{ input }}'\n"
     ]
    }
   ],
   "source": [
    "# Load a specific version\n",
    "content = load_prompt_version(\"translate_to_french__20250524_220435.txt\")\n",
    "print(\"\\n📜 Loaded Prompt:\\n\", content)\n"
   ]
  },
  {
   "cell_type": "code",
   "execution_count": null,
   "id": "6ef04739",
   "metadata": {},
   "outputs": [],
   "source": []
  }
 ],
 "metadata": {
  "kernelspec": {
   "display_name": "Python 3",
   "language": "python",
   "name": "python3"
  },
  "language_info": {
   "codemirror_mode": {
    "name": "ipython",
    "version": 3
   },
   "file_extension": ".py",
   "mimetype": "text/x-python",
   "name": "python",
   "nbconvert_exporter": "python",
   "pygments_lexer": "ipython3",
   "version": "3.11.0"
  }
 },
 "nbformat": 4,
 "nbformat_minor": 5
}
