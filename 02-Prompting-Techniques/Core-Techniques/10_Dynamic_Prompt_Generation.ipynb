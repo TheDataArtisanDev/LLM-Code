{
 "cells": [
  {
   "cell_type": "markdown",
   "id": "32d5b455",
   "metadata": {},
   "source": [
    "# Dynamic Prompt Generation\n",
    "\n",
    "Dynamic prompt generation involves creating or adapting prompts on-the-fly based on user input, API responses, or external data sources."
   ]
  },
  {
   "cell_type": "code",
   "execution_count": 1,
   "id": "0594166c",
   "metadata": {},
   "outputs": [],
   "source": [
    "import datetime\n",
    "from openai import AzureOpenAI\n",
    "import os\n",
    "from dotenv import load_dotenv\n",
    "\n",
    "load_dotenv()\n",
    "client = AzureOpenAI(\n",
    "    api_key=os.getenv(\"AZURE_OPENAI_KEY\"),\n",
    "    api_version=os.getenv(\"AZURE_OPENAI_API_VERSION\"),\n",
    "    azure_endpoint=os.getenv(\"AZURE_OPENAI_ENDPOINT\")\n",
    ")\n",
    "AZURE_OPENAI_DEPLOYMENT_NAME = os.getenv(\"AZURE_OPENAI_DEPLOYMENT_NAME\")"
   ]
  },
  {
   "cell_type": "code",
   "execution_count": 5,
   "id": "53189521",
   "metadata": {},
   "outputs": [
    {
     "name": "stdout",
     "output_type": "stream",
     "text": [
      "Dynamic Prompt Output:\n",
      " \"Revolutionary AI Systems Achieve Breakthroughs in Early Disease Detection and Personalized Treatment Plans, Transforming Healthcare Landscape\"\n",
      "Dynamic Prompt Output:\n",
      " \"Revolutionary AI Technology Transforms Modern Warfare: Autonomous Drones and Tactical Decision-Making Systems Take Center Stage\"\n"
     ]
    }
   ],
   "source": [
    "def dynamic_prompt(user_topic):\n",
    "    today = datetime.date.today().strftime(\"%B %d, %Y\")\n",
    "    prompt = f\"Today is {today}. Write a short news headline about {user_topic}.\"\n",
    "    resp = client.chat.completions.create(\n",
    "        model=AZURE_OPENAI_DEPLOYMENT_NAME,\n",
    "        messages=[{\"role\": \"user\", \"content\": prompt}]\n",
    "    )\n",
    "    print(\"Dynamic Prompt Output:\\n\", resp.choices[0].message.content.strip())\n",
    "\n",
    "# Example usage\n",
    "dynamic_prompt(\"AI advancements in healthcare\")\n",
    "\n",
    "dynamic_prompt(\"AI Advancements in War\")"
   ]
  },
  {
   "cell_type": "code",
   "execution_count": null,
   "id": "e1fa341a",
   "metadata": {},
   "outputs": [],
   "source": []
  }
 ],
 "metadata": {
  "kernelspec": {
   "display_name": "Python 3",
   "language": "python",
   "name": "python3"
  },
  "language_info": {
   "codemirror_mode": {
    "name": "ipython",
    "version": 3
   },
   "file_extension": ".py",
   "mimetype": "text/x-python",
   "name": "python",
   "nbconvert_exporter": "python",
   "pygments_lexer": "ipython3",
   "version": "3.11.0"
  }
 },
 "nbformat": 4,
 "nbformat_minor": 5
}
