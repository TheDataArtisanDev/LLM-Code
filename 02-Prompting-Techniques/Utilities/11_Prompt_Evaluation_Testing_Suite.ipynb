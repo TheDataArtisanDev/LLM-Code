{
 "cells": [
  {
   "cell_type": "markdown",
   "id": "f8e49bd1",
   "metadata": {},
   "source": [
    "# Prompt Evaluation and Testing Suite\n",
    "\n",
    "This notebook demonstrates how to automate the evaluation and benchmarking of prompt effectiveness, including A/B testing, accuracy checks, and basic performance analytics for LLM outputs.\n",
    "\n",
    "## Key Features\n",
    "\n",
    "- **A/B Testing:** Compare responses from different prompts.\n",
    "- **Accuracy Checks:** Evaluate model output against expected answers.\n",
    "- **Performance Analytics:** Summarize and visualize prompt performance."
   ]
  },
  {
   "cell_type": "code",
   "execution_count": 21,
   "id": "bc262535",
   "metadata": {},
   "outputs": [],
   "source": [
    "import pandas as pd\n",
    "from openai import AzureOpenAI\n",
    "import os\n",
    "from dotenv import load_dotenv, find_dotenv\n",
    "\n",
    "load_dotenv(find_dotenv())\n",
    "client = AzureOpenAI(\n",
    "    api_key=os.getenv(\"AZURE_OPENAI_KEY\"),\n",
    "    api_version=os.getenv(\"AZURE_OPENAI_API_VERSION\"),\n",
    "    azure_endpoint=os.getenv(\"AZURE_OPENAI_ENDPOINT\")\n",
    ")\n",
    "AZURE_OPENAI_DEPLOYMENT_NAME = os.getenv(\"AZURE_OPENAI_DEPLOYMENT_NAME\")"
   ]
  },
  {
   "cell_type": "code",
   "execution_count": 22,
   "id": "b154d44e",
   "metadata": {},
   "outputs": [],
   "source": [
    "# === Test Data ===\n",
    "TEST_CASES = [\n",
    "    {\n",
    "        \"id\": 1,\n",
    "        \"input\": \"Translate to French: 'Good morning'\",\n",
    "        \"expected\": \"Bonjour\"\n",
    "    },\n",
    "    {\n",
    "        \"id\": 2,\n",
    "        \"input\": \"Translate to French: 'Good night'\",\n",
    "        \"expected\": \"Bonne nuit\"\n",
    "    }\n",
    "]"
   ]
  },
  {
   "cell_type": "code",
   "execution_count": 23,
   "id": "5a545380",
   "metadata": {},
   "outputs": [],
   "source": [
    "# === Prompt Variants ===\n",
    "PROMPTS = {\n",
    "    \"zero_shot\": lambda input: input,\n",
    "    \"instructional\": lambda input: f\"Please respond with a one-word French translation only.\\n{input}\"\n",
    "}\n"
   ]
  },
  {
   "cell_type": "code",
   "execution_count": 25,
   "id": "1f2b4680",
   "metadata": {},
   "outputs": [
    {
     "name": "stdout",
     "output_type": "stream",
     "text": [
      "\n",
      "Evaluating Prompt Style: zero_shot\n",
      "\n",
      "Prompt: Translate to French: 'Good morning'\n",
      "Expected: bonjour | Got: 'good morning' in french is translated as 'bonjour'. | ✅ Pass\n",
      "\n",
      "Prompt: Translate to French: 'Good night'\n",
      "Expected: bonne nuit | Got: the translation of \"good night\" in french is \"bonne nuit.\" | ✅ Pass\n",
      "\n",
      "zero_shot Accuracy: 2/2 (100.0%)\n",
      "Avg Response Time: 1.38 seconds\n",
      "\n",
      "Evaluating Prompt Style: instructional\n",
      "\n",
      "Prompt: Please respond with a one-word French translation only.\n",
      "Translate to French: 'Good morning'\n",
      "Expected: bonjour | Got: bonjour | ✅ Pass\n",
      "\n",
      "Prompt: Please respond with a one-word French translation only.\n",
      "Translate to French: 'Good night'\n",
      "Expected: bonne nuit | Got: bonne nuit | ✅ Pass\n",
      "\n",
      "instructional Accuracy: 2/2 (100.0%)\n",
      "Avg Response Time: 0.69 seconds\n"
     ]
    }
   ],
   "source": [
    "import time\n",
    "from typing import List, Dict\n",
    "\n",
    "\n",
    "# === Evaluation Function ===\n",
    "def evaluate_prompt_style(prompt_name: str, prompt_func, test_cases: List[Dict]):\n",
    "    print(f\"\\nEvaluating Prompt Style: {prompt_name}\")\n",
    "    success_count = 0\n",
    "    total_time = 0\n",
    "\n",
    "    for test in test_cases:\n",
    "        final_prompt = prompt_func(test[\"input\"])\n",
    "        print(f\"\\nPrompt: {final_prompt}\")\n",
    "        start = time.time()\n",
    "        response = client.chat.completions.create(\n",
    "            model=AZURE_OPENAI_DEPLOYMENT_NAME,\n",
    "            messages=[\n",
    "                {\"role\": \"system\", \"content\": \"You are a helpful assistant.\"},\n",
    "                {\"role\": \"user\", \"content\": final_prompt}\n",
    "            ]\n",
    "        )\n",
    "        end = time.time()\n",
    "\n",
    "        model_reply = response.choices[0].message.content.strip().lower()\n",
    "        expected = test[\"expected\"].lower()\n",
    "        passed = expected in model_reply\n",
    "        if passed:\n",
    "            success_count += 1\n",
    "        total_time += (end - start)\n",
    "\n",
    "        print(f\"Expected: {expected} | Got: {model_reply} | {'✅ Pass' if passed else '❌ Fail'}\")\n",
    "\n",
    "    total = len(test_cases)\n",
    "    print(f\"\\n{prompt_name} Accuracy: {success_count}/{total} ({(success_count/total)*100:.1f}%)\")\n",
    "    print(f\"Avg Response Time: {total_time/total:.2f} seconds\")\n",
    "\n",
    "# === Run Evaluation for All Prompt Styles ===\n",
    "for name, func in PROMPTS.items():\n",
    "    evaluate_prompt_style(name, func, TEST_CASES)\n"
   ]
  },
  {
   "cell_type": "code",
   "execution_count": null,
   "id": "c282f2d9",
   "metadata": {},
   "outputs": [],
   "source": []
  }
 ],
 "metadata": {
  "kernelspec": {
   "display_name": "Python 3",
   "language": "python",
   "name": "python3"
  },
  "language_info": {
   "codemirror_mode": {
    "name": "ipython",
    "version": 3
   },
   "file_extension": ".py",
   "mimetype": "text/x-python",
   "name": "python",
   "nbconvert_exporter": "python",
   "pygments_lexer": "ipython3",
   "version": "3.11.0"
  }
 },
 "nbformat": 4,
 "nbformat_minor": 5
}
