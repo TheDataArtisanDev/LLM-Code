{
 "cells": [
  {
   "cell_type": "markdown",
   "id": "8118fe55",
   "metadata": {},
   "source": [
    "# Multi-turn Prompting\n",
    "\n",
    "Multi-turn prompting is a technique where the language model engages in a conversation across multiple exchanges, maintaining context and coherence throughout the dialogue. This approach is useful for simulating interactive assistants, chatbots, or any scenario where follow-up questions and answers are required.\n",
    "\n",
    "## How Multi-turn Prompting Works\n",
    "\n",
    "- **Conversational Context:** The model receives a sequence of messages (user and assistant) and generates context-aware responses.\n",
    "- **Stateful Dialogue:** The model can reference previous turns to provide relevant and coherent answers.\n",
    "- **Dynamic Interaction:** Enables back-and-forth exchanges, clarifications, and deeper exploration of topics.\n",
    "\n",
    "## Advantages\n",
    "\n",
    "- **Context Retention:** Maintains information across multiple turns for more natural conversations.\n",
    "- **Interactive Experience:** Supports complex, multi-step tasks and clarifications.\n",
    "\n",
    "## Limitations\n",
    "\n",
    "- **Context Window Limits:** Very long conversations may exceed the model's context window.\n",
    "- **Potential for Drift:** The model may lose track of context if not managed carefully.\n",
    "\n",
    "## Example\n",
    "\n",
    "A typical multi-turn prompt might look like:\n",
    "\n",
    "> User: What is the capital of France?  \n",
    "> Assistant: The capital of France is Paris.  \n",
    "> User: What is the population of that city?  \n",
    "> Assistant:"
   ]
  },
  {
   "cell_type": "code",
   "execution_count": 1,
   "id": "5c37a610",
   "metadata": {},
   "outputs": [],
   "source": [
    "from openai import AzureOpenAI\n",
    "import os\n",
    "from dotenv import load_dotenv\n",
    "\n",
    "# Load environment variables\n",
    "load_dotenv()\n",
    "\n",
    "# Azure client setup\n",
    "client = AzureOpenAI(\n",
    "    api_key=os.getenv(\"AZURE_OPENAI_KEY\"),\n",
    "    api_version=os.getenv(\"AZURE_OPENAI_API_VERSION\"),\n",
    "    azure_endpoint=os.getenv(\"AZURE_OPENAI_ENDPOINT\")\n",
    ")\n",
    "\n",
    "AZURE_OPENAI_DEPLOYMENT_NAME = os.getenv(\"AZURE_OPENAI_DEPLOYMENT_NAME\")"
   ]
  },
  {
   "cell_type": "code",
   "execution_count": 2,
   "id": "31104ba7",
   "metadata": {},
   "outputs": [
    {
     "name": "stdout",
     "output_type": "stream",
     "text": [
      "\n",
      "🧑 Multi-turn Conversation:\n",
      "\n",
      "System: You are a helpful assistant.\n",
      "User: What is the capital of France?\n",
      "Assistant: The capital of France is Paris.\n",
      "User: What is the population of that city?\n",
      "\n",
      "🤖 Azure LLM Response:\n",
      " As of my last update, the population of Paris is approximately 2.1 million people within the city limits. However, the larger metropolitan area has a population of around 12 million. Population figures can change over time, so it's always a good idea to check the most recent statistics for the latest information.\n"
     ]
    }
   ],
   "source": [
    "# === Multi-turn Prompt ===\n",
    "def multi_turn():\n",
    "    messages = [\n",
    "        {\"role\": \"system\", \"content\": \"You are a helpful assistant.\"},\n",
    "        {\"role\": \"user\", \"content\": \"What is the capital of France?\"},\n",
    "        {\"role\": \"assistant\", \"content\": \"The capital of France is Paris.\"},\n",
    "        {\"role\": \"user\", \"content\": \"What is the population of that city?\"}\n",
    "    ]\n",
    "    print(\"\\n🧑 Multi-turn Conversation:\\n\")\n",
    "    for m in messages:\n",
    "        print(f\"{m['role'].capitalize()}: {m['content']}\")\n",
    "\n",
    "    response = client.chat.completions.create(\n",
    "        model=AZURE_OPENAI_DEPLOYMENT_NAME,\n",
    "        messages=messages\n",
    "    )\n",
    "    \n",
    "    print(\"\\n🤖 Azure LLM Response:\\n\", response.choices[0].message.content.strip())\n",
    "\n",
    "# === Run Multi-turn Example ===\n",
    "multi_turn();"
   ]
  },
  {
   "cell_type": "code",
   "execution_count": null,
   "id": "61accf8b",
   "metadata": {},
   "outputs": [],
   "source": []
  }
 ],
 "metadata": {
  "kernelspec": {
   "display_name": "Python 3",
   "language": "python",
   "name": "python3"
  },
  "language_info": {
   "codemirror_mode": {
    "name": "ipython",
    "version": 3
   },
   "file_extension": ".py",
   "mimetype": "text/x-python",
   "name": "python",
   "nbconvert_exporter": "python",
   "pygments_lexer": "ipython3",
   "version": "3.11.0"
  }
 },
 "nbformat": 4,
 "nbformat_minor": 5
}
