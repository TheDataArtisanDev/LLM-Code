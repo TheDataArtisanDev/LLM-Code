{
 "cells": [
  {
   "cell_type": "markdown",
   "id": "74655186",
   "metadata": {},
   "source": [
    "# Few-shot Prompting\n",
    "\n",
    "Few-shot prompting is a technique where a large language model (LLM) is given a task along with a few examples (input-output pairs) to demonstrate the expected behavior. The model uses these examples to better understand the task and generate a relevant response for a new input.\n",
    "\n",
    "## How Few-shot Prompting Works\n",
    "\n",
    "- **Multiple Examples Provided:** The prompt includes several demonstrations of the task, followed by a new query.\n",
    "- **Pattern Recognition:** The model learns the pattern from the examples and applies it to the new input.\n",
    "- **Generalization:** The model can generalize better to new queries that are similar to the examples.\n",
    "\n",
    "## Advantages\n",
    "\n",
    "- **Improved Accuracy:** More examples help the model understand the task better, leading to more accurate responses.\n",
    "- **Handles Variations:** Can cover a wider range of task variations compared to zero-shot or one-shot prompting.\n",
    "\n",
    "## Limitations\n",
    "\n",
    "- **Prompt Length:** Too many examples can make the prompt long and may exceed model input limits.\n",
    "- **Example Quality:** The effectiveness depends on the relevance and diversity of the examples.\n",
    "\n",
    "## Example\n",
    "\n",
    "A typical few-shot prompt might look like:\n",
    "\n",
    "> Translate to French: 'Good night' → 'Bonne nuit'\n",
    ">\n",
    "> Translate to French: 'Good morning' → 'Bonjour'\n",
    ">\n",
    "> Translate to French: 'How are you?' → 'Comment ça va ?'\n",
    ">\n",
    "> Translate to French: 'See you later'"
   ]
  },
  {
   "cell_type": "code",
   "execution_count": 1,
   "id": "447638d2",
   "metadata": {},
   "outputs": [],
   "source": [
    "from openai import AzureOpenAI\n",
    "import os\n",
    "from dotenv import load_dotenv, find_dotenv\n",
    "\n",
    "# Load environment variables\n",
    "load_dotenv(find_dotenv())\n",
    "\n",
    "# Azure client setup\n",
    "client = AzureOpenAI(\n",
    "    api_key=os.getenv(\"AZURE_OPENAI_KEY\"),\n",
    "    api_version=os.getenv(\"AZURE_OPENAI_API_VERSION\"),\n",
    "    azure_endpoint=os.getenv(\"AZURE_OPENAI_ENDPOINT\")\n",
    ")\n",
    "\n",
    "AZURE_OPENAI_DEPLOYMENT_NAME = os.getenv(\"AZURE_OPENAI_DEPLOYMENT_NAME\")"
   ]
  },
  {
   "cell_type": "code",
   "execution_count": 4,
   "id": "9f321867",
   "metadata": {},
   "outputs": [
    {
     "name": "stdout",
     "output_type": "stream",
     "text": [
      "=== Few-shot Prompt Example ===\n",
      "\n",
      "🧑 Few-shot Prompt:\n",
      " Translate to French: 'Good night' → 'Bonne nuit'\n",
      "Translate to French: 'Good morning' → 'Bonjour'\n",
      "Translate to French: 'How are you?' → 'Comment ça va ?'\n",
      "Translate to French: 'See you later'\n",
      "\n",
      "\n",
      "🤖 Azure LLM Response:\n",
      " Translate to French: 'See you later' → 'À plus tard'\n",
      "\n",
      "\n",
      "🤖 Azure LLM Response:\n",
      " Translate to French: 'See you later' → 'À plus tard'\n"
     ]
    }
   ],
   "source": [
    "# === Few-shot Prompt ===\n",
    "def few_shot():\n",
    "    print(\"=== Few-shot Prompt Example ===\")\n",
    "    prompt = (\n",
    "        \"Translate to French: 'Good night' → 'Bonne nuit'\\n\"\n",
    "        \"Translate to French: 'Good morning' → 'Bonjour'\\n\"\n",
    "        \"Translate to French: 'How are you?' → 'Comment ça va ?'\\n\"\n",
    "        \"Translate to French: 'See you later'\"\n",
    "    )\n",
    "    print(\"\\n🧑 Few-shot Prompt:\\n\", prompt)\n",
    "\n",
    "    response = client.chat.completions.create(\n",
    "        model=AZURE_OPENAI_DEPLOYMENT_NAME,\n",
    "        messages=[\n",
    "            {\"role\": \"system\", \"content\": \"You are a helpful assistant.\"},\n",
    "            {\"role\": \"user\", \"content\": prompt}\n",
    "        ]\n",
    "    )\n",
    "    \n",
    "    print(\"\\n\\n🤖 Azure LLM Response:\\n\", response.choices[0].message.content.strip())    \n",
    "\n",
    "# === Run Few-shot Example ===\n",
    "few_shot();  # Add semicolon to suppress output"
   ]
  },
  {
   "cell_type": "code",
   "execution_count": null,
   "id": "01876074",
   "metadata": {},
   "outputs": [],
   "source": []
  }
 ],
 "metadata": {
  "kernelspec": {
   "display_name": "Python 3",
   "language": "python",
   "name": "python3"
  },
  "language_info": {
   "codemirror_mode": {
    "name": "ipython",
    "version": 3
   },
   "file_extension": ".py",
   "mimetype": "text/x-python",
   "name": "python",
   "nbconvert_exporter": "python",
   "pygments_lexer": "ipython3",
   "version": "3.11.0"
  }
 },
 "nbformat": 4,
 "nbformat_minor": 5
}
