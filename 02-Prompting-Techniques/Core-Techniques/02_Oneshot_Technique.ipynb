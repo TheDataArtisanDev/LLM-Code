{
 "cells": [
  {
   "cell_type": "markdown",
   "id": "708d51e9",
   "metadata": {},
   "source": [
    "# One-shot Prompting\n",
    "\n",
    "One-shot prompting is a technique where a large language model (LLM) is given a task along with a single example (input-output pair) to help clarify the expected behavior. The model uses this example to better understand the task and generate a relevant response for a new input.\n",
    "\n",
    "## How One-shot Prompting Works\n",
    "\n",
    "- **Single Example Provided:** The prompt includes one demonstration of the task, followed by a new query.\n",
    "- **Improved Task Understanding:** The example helps the model infer the desired format or logic.\n",
    "- **Generalization:** The model applies the pattern from the example to the new input.\n",
    "\n",
    "## Advantages\n",
    "\n",
    "- **Better Guidance:** The example reduces ambiguity and improves response accuracy compared to zero-shot prompting.\n",
    "- **Minimal Effort:** Only one example is needed, making it easy to implement.\n",
    "\n",
    "## Limitations\n",
    "\n",
    "- **Limited Coverage:** One example may not capture all task variations.\n",
    "- **Still Sensitive to Prompt Design:** The quality and relevance of the example are crucial.\n",
    "\n",
    "## Example\n",
    "\n",
    "A typical one-shot prompt might look like:\n",
    "\n",
    "> Translate to French: 'Good night' → 'Bonne nuit'\n",
    ">\n",
    "> Translate to French: 'Good morning'\n",
    "\n",
    "The model is expected to use the example to translate the new phrase."
   ]
  },
  {
   "cell_type": "code",
   "execution_count": 1,
   "id": "b5dcf9d2",
   "metadata": {},
   "outputs": [],
   "source": [
    "from openai import AzureOpenAI\n",
    "import os\n",
    "from dotenv import load_dotenv, find_dotenv\n",
    "\n",
    "# Load environment variables\n",
    "load_dotenv(find_dotenv())\n",
    "\n",
    "# Azure client setup\n",
    "client = AzureOpenAI(\n",
    "    api_key=os.getenv(\"AZURE_OPENAI_KEY\"),\n",
    "    api_version=os.getenv(\"AZURE_OPENAI_API_VERSION\"),\n",
    "    azure_endpoint=os.getenv(\"AZURE_OPENAI_ENDPOINT\")\n",
    ")\n",
    "\n",
    "AZURE_OPENAI_DEPLOYMENT_NAME = os.getenv(\"AZURE_OPENAI_DEPLOYMENT_NAME\")"
   ]
  },
  {
   "cell_type": "code",
   "execution_count": 2,
   "id": "8f53b735",
   "metadata": {},
   "outputs": [
    {
     "name": "stdout",
     "output_type": "stream",
     "text": [
      "\n",
      "🧑 One-shot Prompt:\n",
      " Translate to French: 'Good night' → 'Bonne nuit'\n",
      "Translate to French: 'Good morning'\n",
      "🤖 Azure LLM Response:\n",
      " 'Good morning' in French is translated as 'Bonjour'.\n"
     ]
    }
   ],
   "source": [
    "# === One-shot Prompt ===\n",
    "def one_shot():\n",
    "    prompt = (\n",
    "        \"Translate to French: 'Good night' → 'Bonne nuit'\\n\"\n",
    "        \"Translate to French: 'Good morning'\"\n",
    "    )\n",
    "    print(\"\\n🧑 One-shot Prompt:\\n\", prompt)\n",
    "\n",
    "    response = client.chat.completions.create(\n",
    "        model=AZURE_OPENAI_DEPLOYMENT_NAME,\n",
    "        messages=[\n",
    "            {\"role\": \"system\", \"content\": \"You are a helpful assistant.\"},\n",
    "            {\"role\": \"user\", \"content\": prompt}\n",
    "        ]\n",
    "    )\n",
    "    \n",
    "    print(\"🤖 Azure LLM Response:\\n\", response.choices[0].message.content.strip())\n",
    "\n",
    "# === Run One-shot Example ===\n",
    "one_shot()"
   ]
  },
  {
   "cell_type": "code",
   "execution_count": null,
   "id": "95ea7197",
   "metadata": {},
   "outputs": [],
   "source": []
  }
 ],
 "metadata": {
  "kernelspec": {
   "display_name": "Python 3",
   "language": "python",
   "name": "python3"
  },
  "language_info": {
   "codemirror_mode": {
    "name": "ipython",
    "version": 3
   },
   "file_extension": ".py",
   "mimetype": "text/x-python",
   "name": "python",
   "nbconvert_exporter": "python",
   "pygments_lexer": "ipython3",
   "version": "3.11.0"
  }
 },
 "nbformat": 4,
 "nbformat_minor": 5
}
