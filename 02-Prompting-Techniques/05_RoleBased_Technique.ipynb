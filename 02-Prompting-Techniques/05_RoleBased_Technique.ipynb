{
 "cells": [
  {
   "cell_type": "markdown",
   "id": "fda15906",
   "metadata": {},
   "source": [
    "# Role-based Prompting\n",
    "\n",
    "Role-based prompting is a technique where you instruct the language model to assume a specific role or persona (such as a teacher, interviewer, or expert) to guide its responses. This helps tailor the style, tone, and depth of the model's output to better fit the intended use case.\n",
    "\n",
    "## How Role-based Prompting Works\n",
    "\n",
    "- **Explicit Role Assignment:** The prompt or system message specifies the role the model should play.\n",
    "- **Contextual Responses:** The model adapts its answers to match the assigned persona or expertise.\n",
    "- **Improved Relevance:** Helps generate more contextually appropriate and useful responses.\n",
    "\n",
    "## Advantages\n",
    "\n",
    "- **Customizable Output:** Easily adjust the model's tone and style for different audiences.\n",
    "- **Enhanced Engagement:** Makes interactions more natural and relatable.\n",
    "\n",
    "## Limitations\n",
    "\n",
    "- **Role Clarity Needed:** The effectiveness depends on how clearly the role is defined.\n",
    "- **May Not Fully Emulate Complex Roles:** The model's understanding of nuanced roles is limited by its training data.\n",
    "\n",
    "## Example\n",
    "\n",
    "A typical role-based prompt might look like:\n",
    "\n",
    "> You are a French language teacher. Explain the difference between \"bonjour\" and \"bonsoir\" to a beginner."
   ]
  },
  {
   "cell_type": "code",
   "execution_count": 1,
   "id": "d949c6fd",
   "metadata": {},
   "outputs": [],
   "source": [
    "from openai import AzureOpenAI\n",
    "import os\n",
    "from dotenv import load_dotenv\n",
    "\n",
    "# Load environment variables\n",
    "load_dotenv()\n",
    "\n",
    "# Azure client setup\n",
    "client = AzureOpenAI(\n",
    "    api_key=os.getenv(\"AZURE_OPENAI_KEY\"),\n",
    "    api_version=os.getenv(\"AZURE_OPENAI_API_VERSION\"),\n",
    "    azure_endpoint=os.getenv(\"AZURE_OPENAI_ENDPOINT\")\n",
    ")\n",
    "\n",
    "AZURE_OPENAI_DEPLOYMENT_NAME = os.getenv(\"AZURE_OPENAI_DEPLOYMENT_NAME\")"
   ]
  },
  {
   "cell_type": "code",
   "execution_count": 3,
   "id": "dc994af2",
   "metadata": {},
   "outputs": [
    {
     "name": "stdout",
     "output_type": "stream",
     "text": [
      "\n",
      "🧑 Role-based Prompt:\n",
      " You are a French language teacher. Explain the difference between 'bonjour' and 'bonsoir' to a beginner to an English speaker. Use simple language and provide examples of when to use each greeting.\n",
      "\n",
      "🤖 Azure LLM Response:\n",
      " Sure! \n",
      "\n",
      "In French, \"bonjour\" and \"bonsoir\" are both greetings, but they are used at different times of the day.\n",
      "\n",
      "1. **Bonjour** means \"hello\" or \"good morning.\" You use \"bonjour\" when you see someone in the morning or during the day, until around the evening. For example:\n",
      "   - When you meet a friend in the morning, you can say, “Bonjour!”\n",
      "   - When you enter a store in the afternoon, you can greet the shopkeeper with “Bonjour!”\n",
      "\n",
      "2. **Bonsoir** means \"good evening.\" You use \"bonsoir\" when it is evening or getting close to night. For example:\n",
      "   - When you arrive at a dinner party in the evening, you can say, “Bonsoir!”\n",
      "   - If you meet someone after 5 or 6 PM, it’s polite to say, “Bonsoir!”\n",
      "\n",
      "In summary:\n",
      "- Use **bonjour** for the morning and day.\n",
      "- Use **bonsoir** for the evening. \n",
      "\n",
      "This way, you can greet people nicely according to the time of day!\n",
      "\n",
      "🤖 Azure LLM Response:\n",
      " Sure! \n",
      "\n",
      "In French, \"bonjour\" and \"bonsoir\" are both greetings, but they are used at different times of the day.\n",
      "\n",
      "1. **Bonjour** means \"hello\" or \"good morning.\" You use \"bonjour\" when you see someone in the morning or during the day, until around the evening. For example:\n",
      "   - When you meet a friend in the morning, you can say, “Bonjour!”\n",
      "   - When you enter a store in the afternoon, you can greet the shopkeeper with “Bonjour!”\n",
      "\n",
      "2. **Bonsoir** means \"good evening.\" You use \"bonsoir\" when it is evening or getting close to night. For example:\n",
      "   - When you arrive at a dinner party in the evening, you can say, “Bonsoir!”\n",
      "   - If you meet someone after 5 or 6 PM, it’s polite to say, “Bonsoir!”\n",
      "\n",
      "In summary:\n",
      "- Use **bonjour** for the morning and day.\n",
      "- Use **bonsoir** for the evening. \n",
      "\n",
      "This way, you can greet people nicely according to the time of day!\n"
     ]
    }
   ],
   "source": [
    "# === Role-based Prompt ===\n",
    "def role_based():\n",
    "    prompt = (\n",
    "        \"You are a French language teacher. \"\n",
    "        \"Explain the difference between 'bonjour' and 'bonsoir' to a beginner to an English speaker. \"\n",
    "        \"Use simple language and provide examples of when to use each greeting.\"\n",
    "    )\n",
    "    print(\"\\n🧑 Role-based Prompt:\\n\", prompt)\n",
    "\n",
    "    response = client.chat.completions.create(\n",
    "        model=AZURE_OPENAI_DEPLOYMENT_NAME,\n",
    "        messages=[\n",
    "            {\"role\": \"system\", \"content\": \"You are a French language teacher.\"},\n",
    "            {\"role\": \"user\", \"content\": prompt}\n",
    "        ]\n",
    "    )\n",
    "    \n",
    "    print(\"\\n🤖 Azure LLM Response:\\n\", response.choices[0].message.content.strip())\n",
    "\n",
    "# === Run Role-based Example ===\n",
    "role_based();"
   ]
  },
  {
   "cell_type": "code",
   "execution_count": null,
   "id": "45d10d9d",
   "metadata": {},
   "outputs": [],
   "source": []
  }
 ],
 "metadata": {
  "kernelspec": {
   "display_name": "Python 3",
   "language": "python",
   "name": "python3"
  },
  "language_info": {
   "codemirror_mode": {
    "name": "ipython",
    "version": 3
   },
   "file_extension": ".py",
   "mimetype": "text/x-python",
   "name": "python",
   "nbconvert_exporter": "python",
   "pygments_lexer": "ipython3",
   "version": "3.11.0"
  }
 },
 "nbformat": 4,
 "nbformat_minor": 5
}
