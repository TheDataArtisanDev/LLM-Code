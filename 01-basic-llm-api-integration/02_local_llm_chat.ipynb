{
 "cells": [
  {
   "cell_type": "code",
   "execution_count": 16,
   "id": "cf8bb98c",
   "metadata": {},
   "outputs": [
    {
     "name": "stderr",
     "output_type": "stream",
     "text": [
      "C:\\Users\\yaseen_banu\\AppData\\Local\\Temp\\ipykernel_5812\\2896501598.py:10: LangChainDeprecationWarning: The class `ChatOpenAI` was deprecated in LangChain 0.0.10 and will be removed in 1.0. An updated version of the class exists in the :class:`~langchain-openai package and should be used instead. To use it run `pip install -U :class:`~langchain-openai` and import as `from :class:`~langchain_openai import ChatOpenAI``.\n",
      "  llm = ChatOpenAI(\n",
      "C:\\Users\\yaseen_banu\\AppData\\Local\\Temp\\ipykernel_5812\\2896501598.py:24: LangChainDeprecationWarning: The method `BaseChatModel.__call__` was deprecated in langchain-core 0.1.7 and will be removed in 1.0. Use :meth:`~invoke` instead.\n",
      "  response = llm(messages)\n"
     ]
    },
    {
     "name": "stdout",
     "output_type": "stream",
     "text": [
      "LangChain Response:\n",
      "\n",
      " It's Thursday, a lovely day to play,\n",
      "The fourth day of the week, in a happy way!\n"
     ]
    }
   ],
   "source": [
    "from langchain.chat_models import ChatOpenAI\n",
    "from langchain.schema import SystemMessage, HumanMessage\n",
    "import os\n",
    "from dotenv import load_dotenv\n",
    "\n",
    "# Load environment variables\n",
    "load_dotenv()\n",
    "\n",
    "# Configure LangChain to talk to your local LM Studio server\n",
    "llm = ChatOpenAI(\n",
    "    model=os.getenv(\"LOCAL_LLM_OPENAI_MODEL\"),\n",
    "    openai_api_base=os.getenv(\"LOCAL_LLM_API_URL\"),\n",
    "    openai_api_key=os.getenv(\"LOCAL_LLM_OPENAI_KEY\"),\n",
    "    temperature=0.7\n",
    ")\n",
    "\n",
    "# Create messages in OpenAI chat format\n",
    "messages = [\n",
    "    SystemMessage(content=\"Always answer in rhymes. Today is Thursday\"),\n",
    "    HumanMessage(content=\"What day is it today?\")\n",
    "]\n",
    "\n",
    "# Get response\n",
    "response = llm(messages)\n",
    "\n",
    "print(\"LangChain Response:\\n\\n\",response.content)\n"
   ]
  },
  {
   "cell_type": "code",
   "execution_count": 19,
   "id": "d012276a",
   "metadata": {},
   "outputs": [
    {
     "name": "stdout",
     "output_type": "stream",
     "text": [
      "Local LLM Response: The opposite of \"night\" can be interpreted in a few ways, depending on the context. \n",
      "\n",
      "1. **Literal meaning**: The direct opposite of \"night\" would be \"day\", as they are two contrasting periods of time.\n",
      "\n",
      "2. **Light-based interpretation**: Considering that darkness is associated with night and light is associated with day, we could say that the opposite of \"night\" is \"light\".\n",
      "\n",
      "3. **Contextual meaning**: In some cases, people might refer to the opposite of \"night\" as \"morning\", which marks the beginning of a new day.\n",
      "\n",
      "So, depending on the context or perspective, the opposite of \"night\" can be \"day\", \"light\", or \"morning\".\n"
     ]
    }
   ],
   "source": [
    "import requests\n",
    "import os\n",
    "from dotenv import load_dotenv\n",
    "\n",
    "# Load environment variables from .env\n",
    "load_dotenv()\n",
    "\n",
    "class LocalLLM:\n",
    "    def __init__(self, model: str, api_key: str, base_url: str) -> None:\n",
    "        if not model:\n",
    "            raise ValueError(\"❌ Model name is required.\")\n",
    "        if not base_url:\n",
    "            raise ValueError(\"❌ Base URL is required.\")\n",
    "        if not api_key:\n",
    "            raise ValueError(\"❌ API key is required.\")\n",
    "\n",
    "        self.model = model\n",
    "        self.api_key = api_key\n",
    "        self.base_url = base_url.rstrip(\"/\")\n",
    "        self.headers = {\"Authorization\": f\"Bearer {self.api_key}\"}\n",
    "        self.endpoint = f\"{self.base_url}/chat/completions\"\n",
    "\n",
    "    def generate(self, prompt: str) -> str:\n",
    "        payload = {\n",
    "            \"model\": self.model,\n",
    "            \"messages\": [{\"role\": \"user\", \"content\": prompt}],\n",
    "            \"temperature\": 0.2\n",
    "        }\n",
    "\n",
    "        response = requests.post(self.endpoint, headers=self.headers, json=payload)\n",
    "\n",
    "        try:\n",
    "            data = response.json()\n",
    "        except Exception:\n",
    "            print(f\"❌ Failed to parse JSON. Raw response:\\n{response.text}\")\n",
    "            return \"Error: Invalid JSON\"\n",
    "\n",
    "        if response.status_code == 200 and \"choices\" in data:\n",
    "            return data[\"choices\"][0][\"message\"][\"content\"]\n",
    "        else:\n",
    "            print(f\"❌ Error {response.status_code}: {data}\")\n",
    "            return f\"Error: {response.status_code}\"\n",
    "\n",
    "# 🚫 Do not run unless all env vars are present\n",
    "model = os.getenv(\"LOCAL_LLM_OPENAI_MODEL\")\n",
    "base_url = os.getenv(\"LOCAL_LLM_API_URL\")\n",
    "api_key = os.getenv(\"LOCAL_LLM_OPENAI_KEY\")\n",
    "\n",
    "# ✅ Run\n",
    "llm = LocalLLM(model=model, api_key=api_key, base_url=base_url)\n",
    "output = llm.generate(\"What is the opposite of night?\")\n",
    "print(\"Local LLM Response:\", output)\n"
   ]
  },
  {
   "cell_type": "code",
   "execution_count": null,
   "id": "7611dd0c",
   "metadata": {},
   "outputs": [],
   "source": []
  }
 ],
 "metadata": {
  "kernelspec": {
   "display_name": "Python 3",
   "language": "python",
   "name": "python3"
  },
  "language_info": {
   "codemirror_mode": {
    "name": "ipython",
    "version": 3
   },
   "file_extension": ".py",
   "mimetype": "text/x-python",
   "name": "python",
   "nbconvert_exporter": "python",
   "pygments_lexer": "ipython3",
   "version": "3.11.0"
  }
 },
 "nbformat": 4,
 "nbformat_minor": 5
}
